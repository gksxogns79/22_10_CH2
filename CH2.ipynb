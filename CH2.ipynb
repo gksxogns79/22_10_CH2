{
  "nbformat": 4,
  "nbformat_minor": 0,
  "metadata": {
    "colab": {
      "provenance": [],
      "authorship_tag": "ABX9TyNu0cayyEk3PXlCyVIaepfx",
      "include_colab_link": true
    },
    "kernelspec": {
      "name": "python3",
      "display_name": "Python 3"
    },
    "language_info": {
      "name": "python"
    }
  },
  "cells": [
    {
      "cell_type": "markdown",
      "metadata": {
        "id": "view-in-github",
        "colab_type": "text"
      },
      "source": [
        "<a href=\"https://colab.research.google.com/github/gksxogns79/22_10_CH2/blob/main/CH2.ipynb\" target=\"_parent\"><img src=\"https://colab.research.google.com/assets/colab-badge.svg\" alt=\"Open In Colab\"/></a>"
      ]
    },
    {
      "cell_type": "code",
      "execution_count": 11,
      "metadata": {
        "id": "gf-2S5soteeW",
        "colab": {
          "base_uri": "https://localhost:8080/"
        },
        "outputId": "c7229c1c-7745-4700-d9d7-e7ef78c185a2"
      },
      "outputs": [
        {
          "output_type": "stream",
          "name": "stdout",
          "text": [
            "이름을 입력하시오.홍길동\n",
            "홍길동 씨,안녕하세요?\n",
            "파이썬에 오신 것을 환영합니다.\n",
            "첫 번째 정수를 입력하시오.300\n",
            "두 번째 정수를 입력하시오.400\n",
            "300 과 400 의 합은 700 입니다.\n"
          ]
        }
      ],
      "source": [
        "name = input(\"이름을 입력하시오.\")\n",
        "print(name,\"씨,안녕하세요?\")\n",
        "print(\"파이썬에 오신 것을 환영4합니다.\")\n",
        "x = int(input(\"첫 번째 정수를 입력하시오.\"))\n",
        "y = int(input(\"두 번째 정수를 입력하시오.\"))\n",
        "sum = x + y\n",
        "print(x,\"과\",y,\"의 합은\",sum,\"입니다.\")"
      ]
    },
    {
      "cell_type": "code",
      "source": [],
      "metadata": {
        "id": "mZVjB1UtuUPx"
      },
      "execution_count": null,
      "outputs": []
    }
  ]
}